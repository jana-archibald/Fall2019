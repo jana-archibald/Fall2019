{
 "cells": [
  {
   "cell_type": "markdown",
   "metadata": {
    "editable": false
   },
   "source": [
    "# Jupyter Assignment 1\n",
    "\n",
    "### Due Tuesday October 1 4pm\n",
    "\n",
    "Late assignments will be penalised by 10% per day, and will not be accepted after 5 days.\n",
    "\n",
    "### This notebook will be what you submit for the assignment.  As with the tutorials you must download your solution and upload to moodle.  \n",
    "\n",
    "###  All of this notebook will be graded, please take the time to make a final answer.  Ensure you have completely answered all of the questions, remove code that didn't run, or was not what was needed, add titles to your plots.\n",
    "\n",
    "### Some of the questions come from our textbook, if so I have indecated the question number.\n",
    "\n",
    "### If you need to add a code or markdown block you can use the `+` symbol above.  To remove a block use the scissors."
   ]
  },
  {
   "cell_type": "markdown",
   "metadata": {
    "editable": false
   },
   "source": [
    "### Question 1 :  (Textbook 1.6)   Stealers, study components.\n",
    "\n",
    "\n",
    "In a study of the relationship between socio-economic class and unethical\n",
    "behavior, 129 University of California undergraduates at Berkeley were asked to identify themselves as\n",
    "having low or high social-class by comparing themselves to others with the most (least) money, most (least)\n",
    "education, and most (least) respected jobs. They were also presented with a jar of individually wrapped\n",
    "candies and informed that the candies were for children in a nearby laboratory, but that they could take\n",
    "some if they wanted. After completing some unrelated tasks, participants reported the number of candies\n",
    "they had taken.\n",
    "\n",
    "\n",
    "(a) Identify the main research question of the study.\n",
    "\n",
    "(b) Who are the subjects in this study, and how many are included?\n",
    "\n",
    "(c) The study found that students who were identiffed as upper-class took more candy than others. How\n",
    "many variables were recorded for each subject in the study in order to conclude these findings? State\n",
    "the variables and their types."
   ]
  },
  {
   "cell_type": "code",
   "execution_count": null,
   "metadata": {},
   "outputs": [],
   "source": []
  },
  {
   "cell_type": "markdown",
   "metadata": {},
   "source": [
    "Answer 1:"
   ]
  },
  {
   "cell_type": "markdown",
   "metadata": {
    "editable": false
   },
   "source": [
    "### Question 2: (textbook 1.26)   Family size. \n",
    "\n",
    "Suppose we want to estimate household size, where a \\household\" is de\f",
    "ned as people\n",
    "living together in the same dwelling, and sharing living accommodations. If we select students at random\n",
    "at an elementary school and ask them what their family size is, will this be a good measure of household\n",
    "size? Or will our average be biased? If so, will it overestimate or underestimate the true value?\n",
    "\n",
    "Explain why!"
   ]
  },
  {
   "cell_type": "code",
   "execution_count": null,
   "metadata": {},
   "outputs": [],
   "source": []
  },
  {
   "cell_type": "markdown",
   "metadata": {},
   "source": [
    "Answer 2:"
   ]
  },
  {
   "cell_type": "markdown",
   "metadata": {
    "editable": false
   },
   "source": [
    "### The next questions are all about one data set called `piracy`\n",
    "\n",
    "Run the code below to load the data."
   ]
  },
  {
   "cell_type": "code",
   "execution_count": 1,
   "metadata": {
    "editable": false
   },
   "outputs": [],
   "source": [
    "download.file(\"http://www.openintro.org/stat/data/piracy.RData\", destfile = \"piracy.RData\")\n",
    "load(\"piracy.RData\")"
   ]
  },
  {
   "cell_type": "markdown",
   "metadata": {
    "editable": false
   },
   "source": [
    "### About the data:\n",
    "\n",
    "This data is avaliable at `openintro.org`.\n",
    "\n",
    "\n",
    "This data set contains observations on US Senators and Representatives related to their support of anti-piracy legislation that was introduced at the end of 2011. \n",
    "\n",
    "\n",
    "The sourece of the data is  ProPublica website (projects.propublica.org/sopa).\n",
    "\n",
    "The variables are:\n",
    "\n",
    "`name`: Name of legislator.\n",
    "\n",
    "`party`: Party affiliation as democrat (D), Republican (R), or Independent (I).\n",
    "\n",
    "`state`: Two letter state abbreviation.\n",
    "\n",
    "`money_pro`: Amount of money in dollars contributed to the legislator's campaign in 2010 by groups generally thought to be supportive of PIPA/SOPA: movie and TV studios, record labels.\n",
    "\n",
    "`money_con`: Amount of money in dollars contributed to the legislator's campaign in 2010 by groups generally thought to be opposed to PIPA/SOPA: computer and internet companies.\n",
    "\n",
    "`years`: Number of years of service in Congress.\n",
    "\n",
    "`stance`: Degree of support for PIPA/SOPA with levels: Leaning No, No, Undecided, Unknown, Yes.\n",
    "\n",
    "`chamber`: Whether the legislator is a member of either the house or senate.\n"
   ]
  },
  {
   "cell_type": "markdown",
   "metadata": {
    "editable": false
   },
   "source": [
    "### Question 3:\n",
    "\n",
    "a. What does each row in the data matrix represent.\n",
    "\n",
    "b. How many participants were included in the survey?\n",
    "\n",
    "c. For each variable in the study indicate if the variable is numerical or categorical."
   ]
  },
  {
   "cell_type": "code",
   "execution_count": null,
   "metadata": {},
   "outputs": [],
   "source": []
  },
  {
   "cell_type": "code",
   "execution_count": null,
   "metadata": {},
   "outputs": [],
   "source": []
  },
  {
   "cell_type": "markdown",
   "metadata": {},
   "source": [
    "Answer 3:\n",
    "\n"
   ]
  },
  {
   "cell_type": "markdown",
   "metadata": {
    "editable": false
   },
   "source": [
    "### Question 4:\n",
    "\n",
    "Describe the distribution of the variable `years'.\n",
    "\n",
    "Your answer must include at least one plot, and you should disuss the center, spread and shape of the distribution.\n",
    "\n",
    "Are there any outliers?  "
   ]
  },
  {
   "cell_type": "code",
   "execution_count": null,
   "metadata": {},
   "outputs": [],
   "source": []
  },
  {
   "cell_type": "code",
   "execution_count": null,
   "metadata": {},
   "outputs": [],
   "source": []
  },
  {
   "cell_type": "markdown",
   "metadata": {},
   "source": [
    "Answer 4:"
   ]
  },
  {
   "cell_type": "markdown",
   "metadata": {
    "editable": false
   },
   "source": [
    "### Question 5:\n",
    "\n",
    "Does there appear to be a relationship between `party` and `stance`.\n",
    "\n",
    "Justify your answer with both a plot, and some summary statistics."
   ]
  },
  {
   "cell_type": "code",
   "execution_count": null,
   "metadata": {},
   "outputs": [],
   "source": []
  },
  {
   "cell_type": "code",
   "execution_count": null,
   "metadata": {},
   "outputs": [],
   "source": []
  },
  {
   "cell_type": "code",
   "execution_count": null,
   "metadata": {},
   "outputs": [],
   "source": []
  },
  {
   "cell_type": "markdown",
   "metadata": {},
   "source": [
    "Answer 5:"
   ]
  },
  {
   "cell_type": "markdown",
   "metadata": {
    "editable": false
   },
   "source": [
    "### Question 6 (Textbook 2.14)   Facebook friends.\n",
    "\n",
    "Facebook data indicate that 50% of Facebook users have 100 or more friends,\n",
    "and that the average friend count of users is 190. What do these findings suggest about the shape of the\n",
    "distribution of number of friends of Facebook users?"
   ]
  },
  {
   "cell_type": "markdown",
   "metadata": {},
   "source": [
    "Answer 6: "
   ]
  },
  {
   "cell_type": "markdown",
   "metadata": {
    "editable": false
   },
   "source": [
    "### Make sure you have answered all of the questions with complete explanations.\n",
    "\n",
    "### When you are done please download a copy as HTML and upload your response to moodle."
   ]
  },
  {
   "cell_type": "markdown",
   "metadata": {
    "editable": false
   },
   "source": [
    "---\n",
    "\n",
    "Some of these questions come from `openintrostatistics` this book at the data set is avaliable at `openintro.org`"
   ]
  }
 ],
 "metadata": {
  "kernelspec": {
   "display_name": "R",
   "language": "R",
   "name": "ir"
  },
  "language_info": {
   "codemirror_mode": "r",
   "file_extension": ".r",
   "mimetype": "text/x-r-source",
   "name": "R",
   "pygments_lexer": "r",
   "version": "3.6.1"
  }
 },
 "nbformat": 4,
 "nbformat_minor": 2
}
