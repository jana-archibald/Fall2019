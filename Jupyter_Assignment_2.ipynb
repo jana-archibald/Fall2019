{
 "cells": [
  {
   "cell_type": "markdown",
   "metadata": {
    "editable": false
   },
   "source": [
    "# Jupyter Assignment 2\n",
    "\n",
    "### Due Tuesday October 29 4pm\n",
    "\n",
    "Late assignments will be penalised by 10% per day, and will not be accepted after 5 days.\n",
    "\n",
    "### This notebook will be what you submit for the assignment.  As with the tutorials you must download your solution and upload to moodle.  \n",
    "\n",
    "###  All of this notebook will be graded, please take the time to make a final answer.  Ensure you have completely answered all of the questions, remove code that didn't run, or was not what was needed, add titles to your plots.\n",
    "\n",
    "### Some of the questions come from our textbook, if so I have indecated the question number.\n",
    "\n",
    "### If you need to add a code or markdown block you can use the `+` symbol above.  To remove a block use the scissors.\n",
    "\n",
    "### I have included the normalplot code below, if you want to use it don't forget to run the code."
   ]
  },
  {
   "cell_type": "code",
   "execution_count": null,
   "metadata": {
    "editable": false
   },
   "outputs": [],
   "source": [
    "normalplot<-function(m,sd,region=0){\n",
    "  x<-seq(m-(3.5)*sd,m+(3.5)*sd,length=1000)\n",
    "  y<-dnorm(x,m,sd)\n",
    "  plot(x,y,type=\"l\",xlab=\"\",ylab=\"\")\n",
    "  z<-x[x>region[1]]\n",
    "  z<- z[z<region[2]]\n",
    "  polygon(c(region[1],z,region[2]),\n",
    "          c(0,dnorm(z,m,sd),0),col=\"gray\")}"
   ]
  },
  {
   "cell_type": "markdown",
   "metadata": {
    "editable": false
   },
   "source": [
    "### Question 1  ( Open Intro 4.4 and 4.6  Triathlon times, Part I. and II.)\n",
    "\n",
    "In triathlons, it is common for racers to be placed into age and gender groups.\n",
    "\n",
    "\n",
    "Friends Leo and Mary both completed the Hermosa Beach Triathlon, where Leo competed in the Men, Ages\n",
    "30 - 34 group while Mary competed in the Women, Ages 25 - 29 group. Leo completed the race in 1:22:28\n",
    "(4948 seconds), while Mary completed the race in 1:31:53 (5513 seconds). Obviously Leo finished faster,\n",
    "but they are curious about how they did within their respective groups. Can you help them? Here is some\n",
    "information on the performance of their groups:\n",
    "\n",
    "- The finishing times of the Men, Ages 30 - 34 group has a mean of 4313 seconds with a standard\n",
    "deviation of 583 seconds.\n",
    "-  The finishing times of the Women, Ages 25 - 29 group has a mean of 5261 seconds with a standard\n",
    "deviation of 807 seconds.\n",
    "-  The distributions of finishing times for both groups are approximately Normal.\n",
    "Remember: a better performance corresponds to a faster finish.\n",
    "\n",
    "\n",
    "a. Write down the short-hand for these two normal distributions.\n",
    "\n",
    "b.  What are the Z-scores for Leo's and Mary's finishing times? What do these Z-scores tell you?\n",
    "\n",
    "c.  Did Leo or Mary rank better in their respective groups? Explain your reasoning.\n",
    "\n",
    "d.   What percent of the triathletes did Leo finish faster than in his group?\n",
    "\n",
    "e. What percent of the triathletes did Mary finish faster than in her group?\n",
    "\n",
    "f. If the distributions of finishing times are not nearly normal, would your answers to parts (b) - (e) change?\n",
    "Explain your reasoning.\n",
    "\n",
    "g.  The cutoff time for the fastest 5% of athletes in the men's group, i.e. those who took the shortest 5%\n",
    "of time to finish.\n",
    "\n",
    "\n",
    "h.  The cutoff time for the slowest 10% of athletes in the women's group.\n",
    "\n",
    "\n",
    "### For parts g and h you must include a plot shading the appropriate area."
   ]
  },
  {
   "cell_type": "code",
   "execution_count": null,
   "metadata": {},
   "outputs": [],
   "source": []
  },
  {
   "cell_type": "code",
   "execution_count": null,
   "metadata": {},
   "outputs": [],
   "source": []
  },
  {
   "cell_type": "markdown",
   "metadata": {},
   "source": [
    "Answer 1 a)"
   ]
  },
  {
   "cell_type": "markdown",
   "metadata": {},
   "source": [
    "Answer 1b)"
   ]
  },
  {
   "cell_type": "markdown",
   "metadata": {},
   "source": [
    "Answer 1 c)"
   ]
  },
  {
   "cell_type": "markdown",
   "metadata": {},
   "source": [
    "Answer 1 d)"
   ]
  },
  {
   "cell_type": "markdown",
   "metadata": {},
   "source": [
    "Answer 1 e)"
   ]
  },
  {
   "cell_type": "markdown",
   "metadata": {},
   "source": [
    "Answer 1 f)"
   ]
  },
  {
   "cell_type": "code",
   "execution_count": null,
   "metadata": {},
   "outputs": [],
   "source": []
  },
  {
   "cell_type": "markdown",
   "metadata": {},
   "source": [
    "Answer 1 g)"
   ]
  },
  {
   "cell_type": "code",
   "execution_count": null,
   "metadata": {},
   "outputs": [],
   "source": []
  },
  {
   "cell_type": "markdown",
   "metadata": {},
   "source": [
    "Answer 1 h)"
   ]
  },
  {
   "cell_type": "markdown",
   "metadata": {
    "editable": false
   },
   "source": [
    "### Questions 2 (Open office 4.18 )  Chicken pox, Part I. \n",
    "\n",
    "\n",
    "The National Vaccine Information Center estimates that 90% of Americans have\n",
    "had chickenpox by the time they reach adulthood.\n",
    "\n",
    "\n",
    "(a) Suppose we take a random sample of 100 American adults. Is the use of the binomial distribution\n",
    "appropriate for calculating the probability that exactly 97 out of 100 randomly sampled American\n",
    "adults had chickenpox during childhood? Explain.\n",
    "\n",
    "\n",
    "(b) Calculate the probability that exactly 97 out of 100 randomly sampled American adults had chickenpox\n",
    "during childhood.\n",
    "\n",
    "\n",
    "(c) What is the probability that exactly 3 out of a new sample of 100 American adults have not had\n",
    "chickenpox in their childhood?\n",
    "\n",
    "\n",
    "(d) What is the probability that at least 1 out of 10 randomly sampled American adults have had chickenpox?\n",
    "\n",
    "\n",
    "(e) What is the probability that at most 3 out of 10 randomly sampled American adults have not had\n",
    "chickenpox?\n",
    "\n",
    "\n",
    "### For each of the probability questions be sure to use appropriate probability notation as you did in tutorial."
   ]
  },
  {
   "cell_type": "code",
   "execution_count": null,
   "metadata": {},
   "outputs": [],
   "source": []
  },
  {
   "cell_type": "code",
   "execution_count": null,
   "metadata": {},
   "outputs": [],
   "source": []
  },
  {
   "cell_type": "code",
   "execution_count": null,
   "metadata": {},
   "outputs": [],
   "source": []
  },
  {
   "cell_type": "code",
   "execution_count": null,
   "metadata": {},
   "outputs": [],
   "source": []
  },
  {
   "cell_type": "markdown",
   "metadata": {
    "editable": false
   },
   "source": [
    "### Question 3  (Open Office 4.20 Chickenpox, Part II.)\n",
    "\n",
    "\n",
    "We learned in Exercise 4.18 that about 90% of American adults had chickenpox\n",
    "before adulthood. We now consider a random sample of 120 American adults.\n",
    "\n",
    "(a) How many people in this sample would you expect to have had chickenpox in their childhood? And\n",
    "with what standard deviation?\n",
    "\n",
    "(b) Would you be surprised if there were 105 people who have had chickenpox in their childhood?\n",
    "\n",
    "(c) What is the probability that 105 or fewer people in this sample have had chickenpox in their childhood?\n",
    "How does this probability relate to your answer to part (b)?"
   ]
  },
  {
   "cell_type": "code",
   "execution_count": null,
   "metadata": {},
   "outputs": [],
   "source": []
  },
  {
   "cell_type": "code",
   "execution_count": null,
   "metadata": {},
   "outputs": [],
   "source": []
  },
  {
   "cell_type": "code",
   "execution_count": null,
   "metadata": {},
   "outputs": [],
   "source": []
  },
  {
   "cell_type": "code",
   "execution_count": null,
   "metadata": {},
   "outputs": [],
   "source": []
  },
  {
   "cell_type": "markdown",
   "metadata": {
    "editable": false
   },
   "source": [
    "### Question 4 (OpenIntro  4.24 Sickle cell anemia. )\n",
    "\n",
    "Sickle cell anemia is a genetic blood disorder where red blood cells lose their  flexibility and assume an abnormal, rigid, \"sickle\" shape, which results in a risk of various complications. If\n",
    "both parents are carriers of the disease, then a child has a 25% chance of having the disease, 50% chance of\n",
    "being a carrier, and 25% chance of neither having the disease nor being a carrier. If two parents who are\n",
    "carriers of the disease have 3 children, what is the probability that\n",
    "\n",
    "\n",
    "(a) two will have the disease?\n",
    "\n",
    "\n",
    "(b) none will have the disease?\n",
    "\n",
    "\n",
    "(c) at least one will neither have the disease nor be a carrier?\n",
    "\n",
    "\n",
    "(d) the first child with the disease will the be 3rd child?"
   ]
  },
  {
   "cell_type": "code",
   "execution_count": null,
   "metadata": {},
   "outputs": [],
   "source": []
  },
  {
   "cell_type": "code",
   "execution_count": null,
   "metadata": {},
   "outputs": [],
   "source": []
  },
  {
   "cell_type": "code",
   "execution_count": null,
   "metadata": {},
   "outputs": [],
   "source": []
  },
  {
   "cell_type": "code",
   "execution_count": null,
   "metadata": {},
   "outputs": [],
   "source": []
  }
 ],
 "metadata": {
  "celltoolbar": "Edit Metadata",
  "kernelspec": {
   "display_name": "R",
   "language": "R",
   "name": "ir"
  },
  "language_info": {
   "codemirror_mode": "r",
   "file_extension": ".r",
   "mimetype": "text/x-r-source",
   "name": "R",
   "pygments_lexer": "r",
   "version": "3.6.1"
  }
 },
 "nbformat": 4,
 "nbformat_minor": 2
}
